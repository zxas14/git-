{
  "nbformat": 4,
  "nbformat_minor": 0,
  "metadata": {
    "colab": {
      "name": "[project] pattern recognition",
      "provenance": [],
      "collapsed_sections": [],
      "machine_shape": "hm"
    },
    "kernelspec": {
      "name": "python3",
      "display_name": "Python 3"
    },
    "accelerator": "GPU"
  },
  "cells": [
    {
      "cell_type": "markdown",
      "metadata": {
        "id": "GMEihQCl-6nk",
        "colab_type": "text"
      },
      "source": [
        "#라이브러리 로드\n",
        "\n"
      ]
    },
    {
      "cell_type": "code",
      "metadata": {
        "id": "RC4oG-zs99mk",
        "colab_type": "code",
        "outputId": "a20d8ed6-ee86-4d64-d618-411b5fe6abd9",
        "colab": {
          "base_uri": "https://localhost:8080/",
          "height": 1000
        }
      },
      "source": [
        "# 캐글 API 버전 갱신을 위한 작업... 반드시 버전이 1.5.6 이어야 함\n",
        "\n",
        "!ls -lha kaggle.json\n",
        "\n",
        "!pip uninstall -y kaggle\n",
        "!pip install --   upgrade pip\n",
        "!pip install kaggle==1.5.6\n",
        "\n",
        "! yes | pip3 uninstall opencv-python\n",
        "! yes | pip3 uninstall opencv-contrib-python\n",
        "! yes | pip3 install opencv-python==3.4.2.16\n",
        "! yes | pip3 install opencv-contrib-python==3.4.2.16\n",
        "!pip install kmc2\n",
        "\n",
        "\n"
      ],
      "execution_count": 0,
      "outputs": [
        {
          "output_type": "stream",
          "text": [
            "-rw-r--r-- 1 root root 62 Dec 14 11:24 kaggle.json\n",
            "Uninstalling kaggle-1.5.6:\n",
            "  Successfully uninstalled kaggle-1.5.6\n",
            "\u001b[31mERROR: Could not find a version that satisfies the requirement upgrade (from versions: none)\u001b[0m\n",
            "\u001b[31mERROR: No matching distribution found for upgrade\u001b[0m\n",
            "Collecting kaggle==1.5.6\n",
            "\u001b[?25l  Downloading https://files.pythonhosted.org/packages/62/ab/bb20f9b9e24f9a6250f95a432f8d9a7d745f8d24039d7a5a6eaadb7783ba/kaggle-1.5.6.tar.gz (58kB)\n",
            "\u001b[K     |████████████████████████████████| 61kB 1.9MB/s \n",
            "\u001b[?25hRequirement already satisfied: urllib3<1.25,>=1.21.1 in /usr/local/lib/python3.6/dist-packages (from kaggle==1.5.6) (1.24.3)\n",
            "Requirement already satisfied: six>=1.10 in /usr/local/lib/python3.6/dist-packages (from kaggle==1.5.6) (1.12.0)\n",
            "Requirement already satisfied: certifi in /usr/local/lib/python3.6/dist-packages (from kaggle==1.5.6) (2019.11.28)\n",
            "Requirement already satisfied: python-dateutil in /usr/local/lib/python3.6/dist-packages (from kaggle==1.5.6) (2.6.1)\n",
            "Requirement already satisfied: requests in /usr/local/lib/python3.6/dist-packages (from kaggle==1.5.6) (2.21.0)\n",
            "Requirement already satisfied: tqdm in /usr/local/lib/python3.6/dist-packages (from kaggle==1.5.6) (4.28.1)\n",
            "Requirement already satisfied: python-slugify in /usr/local/lib/python3.6/dist-packages (from kaggle==1.5.6) (4.0.0)\n",
            "Requirement already satisfied: idna<2.9,>=2.5 in /usr/local/lib/python3.6/dist-packages (from requests->kaggle==1.5.6) (2.8)\n",
            "Requirement already satisfied: chardet<3.1.0,>=3.0.2 in /usr/local/lib/python3.6/dist-packages (from requests->kaggle==1.5.6) (3.0.4)\n",
            "Requirement already satisfied: text-unidecode>=1.3 in /usr/local/lib/python3.6/dist-packages (from python-slugify->kaggle==1.5.6) (1.3)\n",
            "Building wheels for collected packages: kaggle\n",
            "  Building wheel for kaggle (setup.py) ... \u001b[?25l\u001b[?25hdone\n",
            "  Created wheel for kaggle: filename=kaggle-1.5.6-cp36-none-any.whl size=72859 sha256=ccde72e23746d89c47925ee697a8886d1a5c5a19f28d862551d4e6be1251b79a\n",
            "  Stored in directory: /root/.cache/pip/wheels/57/4e/e8/bb28d035162fb8f17f8ca5d42c3230e284c6aa565b42b72674\n",
            "Successfully built kaggle\n",
            "Installing collected packages: kaggle\n",
            "Successfully installed kaggle-1.5.6\n",
            "Uninstalling opencv-python-4.1.2.30:\n",
            "  Would remove:\n",
            "    /usr/local/lib/python3.6/dist-packages/cv2/*\n",
            "    /usr/local/lib/python3.6/dist-packages/opencv_python-4.1.2.30.dist-info/*\n",
            "Proceed (y/n)?   Successfully uninstalled opencv-python-4.1.2.30\n",
            "Uninstalling opencv-contrib-python-4.1.2.30:\n",
            "  Would remove:\n",
            "    /usr/local/lib/python3.6/dist-packages/opencv_contrib_python-4.1.2.30.dist-info/*\n",
            "Proceed (y/n)?   Successfully uninstalled opencv-contrib-python-4.1.2.30\n",
            "Collecting opencv-python==3.4.2.16\n",
            "\u001b[?25l  Downloading https://files.pythonhosted.org/packages/fa/7d/5042b668a8ed41d2a80b8c172f5efcd572e3c046c75ae029407e19b7fc68/opencv_python-3.4.2.16-cp36-cp36m-manylinux1_x86_64.whl (25.0MB)\n",
            "\u001b[K     |████████████████████████████████| 25.0MB 1.2MB/s \n",
            "\u001b[?25hRequirement already satisfied: numpy>=1.11.3 in /usr/local/lib/python3.6/dist-packages (from opencv-python==3.4.2.16) (1.17.4)\n",
            "\u001b[31mERROR: albumentations 0.1.12 has requirement imgaug<0.2.7,>=0.2.5, but you'll have imgaug 0.2.9 which is incompatible.\u001b[0m\n",
            "Installing collected packages: opencv-python\n",
            "Successfully installed opencv-python-3.4.2.16\n",
            "Collecting opencv-contrib-python==3.4.2.16\n",
            "\u001b[?25l  Downloading https://files.pythonhosted.org/packages/08/f1/66330f4042c4fb3b2d77a159db8e8916d9cdecc29bc8c1f56bc7f8a9bec9/opencv_contrib_python-3.4.2.16-cp36-cp36m-manylinux1_x86_64.whl (30.6MB)\n",
            "\u001b[K     |████████████████████████████████| 30.6MB 116.3MB/s \n",
            "\u001b[?25hRequirement already satisfied: numpy>=1.11.3 in /usr/local/lib/python3.6/dist-packages (from opencv-contrib-python==3.4.2.16) (1.17.4)\n",
            "Installing collected packages: opencv-contrib-python\n",
            "Successfully installed opencv-contrib-python-3.4.2.16\n",
            "Collecting kmc2\n",
            "\u001b[?25l  Downloading https://files.pythonhosted.org/packages/b6/a2/42b2dd4fa0c425912c03222dd443f1d6aceed410a29467d1e5d8989c72f1/kmc2-0.1.tar.gz (102kB)\n",
            "\u001b[K     |████████████████████████████████| 102kB 2.3MB/s \n",
            "\u001b[?25hRequirement already satisfied: numpy in /usr/local/lib/python3.6/dist-packages (from kmc2) (1.17.4)\n",
            "Requirement already satisfied: scipy in /usr/local/lib/python3.6/dist-packages (from kmc2) (1.3.3)\n",
            "Requirement already satisfied: scikit-learn in /usr/local/lib/python3.6/dist-packages (from kmc2) (0.21.3)\n",
            "Collecting nose\n",
            "\u001b[?25l  Downloading https://files.pythonhosted.org/packages/15/d8/dd071918c040f50fa1cf80da16423af51ff8ce4a0f2399b7bf8de45ac3d9/nose-1.3.7-py3-none-any.whl (154kB)\n",
            "\u001b[K     |████████████████████████████████| 163kB 58.0MB/s \n",
            "\u001b[?25hRequirement already satisfied: joblib>=0.11 in /usr/local/lib/python3.6/dist-packages (from scikit-learn->kmc2) (0.14.1)\n",
            "Building wheels for collected packages: kmc2\n",
            "  Building wheel for kmc2 (setup.py) ... \u001b[?25l\u001b[?25hdone\n",
            "  Created wheel for kmc2: filename=kmc2-0.1-cp36-cp36m-linux_x86_64.whl size=252218 sha256=0d8bd138bd04edae350b2a6583a7b55d0456bb95533014ba269399b62a5474a1\n",
            "  Stored in directory: /root/.cache/pip/wheels/5c/ba/f0/4c8b421be72d4f2d1a93233c2f6f591e7d8b0bda05a1f4616f\n",
            "Successfully built kmc2\n",
            "Installing collected packages: nose, kmc2\n",
            "Successfully installed kmc2-0.1 nose-1.3.7\n"
          ],
          "name": "stdout"
        }
      ]
    },
    {
      "cell_type": "code",
      "metadata": {
        "id": "-p-aGuY4-3mM",
        "colab_type": "code",
        "colab": {}
      },
      "source": [
        "%matplotlib inline\n",
        "from sklearn.neighbors import KNeighborsClassifier\n",
        "from sklearn.model_selection import train_test_split\n",
        "from imutils import paths\n",
        "import numpy as np\n",
        "import imutils \n",
        "import cv2 \n",
        "import os\n",
        "import kmc2\n",
        "import pandas as pd\n",
        "from tqdm import tqdm\n",
        "import matplotlib.pyplot as plt\n",
        "import cupy as xp \n",
        "\n",
        "import seaborn as sns\n",
        "sns.set()\n",
        "\n",
        "from sklearn.svm import SVC\n",
        "from cvxopt import matrix as cvxopt_matrix\n",
        "from cvxopt import solvers as cvxopt_solvers\n",
        "from sklearn.cluster import KMeans\n"
      ],
      "execution_count": 0,
      "outputs": []
    },
    {
      "cell_type": "code",
      "metadata": {
        "id": "ejKrO1uN9W11",
        "colab_type": "code",
        "outputId": "c8265257-7c29-49c7-89b8-12604acb4ed4",
        "colab": {
          "base_uri": "https://localhost:8080/",
          "height": 35
        }
      },
      "source": [
        "# 캐글연동을 위한 토큰 입력\n",
        "! mkdir -p ~/.kaggle\n",
        "! cp kaggle.json ~/.kaggle/\n",
        "! chmod 600 ~/.kaggle/kaggle.json\n",
        "\n",
        "\n",
        "# 버전이 1.5.6 이 아니면, 진행할 수 없다\n",
        "! kaggle -v\n"
      ],
      "execution_count": 0,
      "outputs": [
        {
          "output_type": "stream",
          "text": [
            "Kaggle API 1.5.6\n"
          ],
          "name": "stdout"
        }
      ]
    },
    {
      "cell_type": "code",
      "metadata": {
        "id": "5ubwApwU-W9l",
        "colab_type": "code",
        "colab": {}
      },
      "source": [
        "! kaggle competitions download -c 2019-ml-finalproject\n",
        "! unzip 2019-ml-finalproject.zip"
      ],
      "execution_count": 0,
      "outputs": []
    },
    {
      "cell_type": "markdown",
      "metadata": {
        "id": "0VtDKrZb9E0_",
        "colab_type": "text"
      },
      "source": [
        "#함수\n"
      ]
    },
    {
      "cell_type": "code",
      "metadata": {
        "id": "R4jthg5E9GJX",
        "colab_type": "code",
        "colab": {}
      },
      "source": [
        "def dense_sitf_each(gray):\n",
        "  sift=cv2.xfeatures2d_SIFT.create()\n",
        "\n",
        "  keypoints=[]\n",
        "  w, h = np.array(gray).shape\n",
        "  for i in range(4, h, 8):\n",
        "    for j in range(4, w, 8):\n",
        "      keypoints.append(cv2.KeyPoint(i, j, 8))\n",
        "\n",
        "\n",
        "  kp,des=sift.compute(gray, keypoints)\n",
        "  \n",
        "  return kp, des"
      ],
      "execution_count": 0,
      "outputs": []
    },
    {
      "cell_type": "markdown",
      "metadata": {
        "id": "V-JBj9Lb_A2U",
        "colab_type": "text"
      },
      "source": [
        "#데이터 로드 및 분류\n",
        "\n",
        "\n",
        "\n"
      ]
    },
    {
      "cell_type": "code",
      "metadata": {
        "id": "cSrW4T-Y-rDG",
        "colab_type": "code",
        "colab": {}
      },
      "source": [
        "\n",
        "df_data= pd.read_csv('/content/Label2Names.csv',header=None)\n"
      ],
      "execution_count": 0,
      "outputs": []
    },
    {
      "cell_type": "code",
      "metadata": {
        "id": "POAsC4CX_N29",
        "colab_type": "code",
        "outputId": "eaeaa52f-ab1b-40db-a864-ee9f748c4b62",
        "colab": {
          "base_uri": "https://localhost:8080/",
          "height": 35
        }
      },
      "source": [
        "DATA_ROOT_TRAIN=\"./train\"\n",
        "train_set=list()\n",
        "train_labels=list()\n",
        "train_des=list()\n",
        "\n",
        "\n",
        "\n",
        "for cls in tqdm(os.listdir(DATA_ROOT_TRAIN)):\n",
        "  img_list=os.listdir(DATA_ROOT_TRAIN+'/'+cls)\n",
        "\n",
        "  if cls=='BACKGROUND_Google':\n",
        "    label=102\n",
        "    \n",
        "   \n",
        "  else:\n",
        "    label=(df_data.index[df_data[1]==cls]+1).tolist()[0]\n",
        "   \n",
        "\n",
        "  for img in img_list:\n",
        "    image=cv2.imread(DATA_ROOT_TRAIN+'/'+cls+'/'+img)\n",
        "    gray=cv2.cvtColor(image,cv2.COLOR_BGR2GRAY)\n",
        "      \n",
        "\n",
        "    kp,des=dense_sitf_each(gray)\n",
        "\n",
        "    train_des.append(des)\n",
        "    train_labels.append(label)\n",
        "\n",
        "\n",
        "\n",
        "\n",
        "\n",
        "   \n",
        "#set이랑  gray를 활용하는 모델은?  11/25 -> sift로 일단 데이터 전처리 11/26\n",
        "#for 들여쓰기 조심\n",
        "\n",
        "  \n",
        "    \n",
        "\n",
        "\n",
        "\n",
        "  "
      ],
      "execution_count": 0,
      "outputs": [
        {
          "output_type": "stream",
          "text": [
            "100%|██████████| 102/102 [02:25<00:00,  1.36s/it]\n"
          ],
          "name": "stderr"
        }
      ]
    },
    {
      "cell_type": "code",
      "metadata": {
        "id": "R-M2YnPLlU_m",
        "colab_type": "code",
        "colab": {}
      },
      "source": [
        "train_labels"
      ],
      "execution_count": 0,
      "outputs": []
    },
    {
      "cell_type": "code",
      "metadata": {
        "id": "BCmgaeLSb4W2",
        "colab_type": "code",
        "outputId": "928e153a-6ec6-43e9-8ec3-771aadf0427a",
        "colab": {
          "base_uri": "https://localhost:8080/",
          "height": 92
        }
      },
      "source": [
        "#stack all the descriptors vertically in a numpy array\n",
        "#descriptors=train_des[0]\n",
        "#for descriptor in tqdm(train_des[1:]):\n",
        "#descriptors=np.vstack((descriptors,descriptor))\n",
        "descriptors= np.vstack(des for des in tqdm(train_des))\n",
        "\n"
      ],
      "execution_count": 0,
      "outputs": [
        {
          "output_type": "stream",
          "text": [
            "  0%|          | 0/3060 [00:00<?, ?it/s]/usr/local/lib/python3.6/dist-packages/ipykernel_launcher.py:1: FutureWarning: arrays to stack must be passed as a \"sequence\" type such as list or tuple. Support for non-sequence iterables such as generators is deprecated as of NumPy 1.16 and will raise an error in the future.\n",
            "  \"\"\"Entry point for launching an IPython kernel.\n",
            "100%|██████████| 3060/3060 [00:00<00:00, 693423.21it/s]\n"
          ],
          "name": "stderr"
        }
      ]
    },
    {
      "cell_type": "code",
      "metadata": {
        "id": "jNgtOEuyhD9o",
        "colab_type": "code",
        "outputId": "3d21d5b4-67ee-4f4a-8e15-58e59219830f",
        "colab": {
          "base_uri": "https://localhost:8080/",
          "height": 35
        }
      },
      "source": [
        "descriptors.shape"
      ],
      "execution_count": 0,
      "outputs": [
        {
          "output_type": "execute_result",
          "data": {
            "text/plain": [
              "(3354868, 128)"
            ]
          },
          "metadata": {
            "tags": []
          },
          "execution_count": 16
        }
      ]
    },
    {
      "cell_type": "code",
      "metadata": {
        "id": "MJ9vuIJ4zUc8",
        "colab_type": "code",
        "outputId": "1245f77a-39e5-4f77-b5a7-4dfb9d64d201",
        "colab": {
          "base_uri": "https://localhost:8080/",
          "height": 110
        }
      },
      "source": [
        "from sklearn.cluster import MiniBatchKMeans\n",
        "codebooksize=200\n",
        "\n",
        "seeding = kmc2.kmc2(descriptors.reshape(-1,128), codebooksize)\n",
        "Kmeas = MiniBatchKMeans(codebooksize, init=seeding).fit(descriptors.reshape(-1,128))\n",
        "codebook = Kmeas.cluster_centers_"
      ],
      "execution_count": 0,
      "outputs": [
        {
          "output_type": "stream",
          "text": [
            "/usr/local/lib/python3.6/dist-packages/ipykernel_launcher.py:5: RuntimeWarning: Explicit initial center position passed: performing only one init in MiniBatchKMeans instead of n_init=3\n",
            "  \"\"\"\n",
            "/usr/local/lib/python3.6/dist-packages/sklearn/cluster/k_means_.py:1561: RuntimeWarning: init_size=300 should be larger than k=400. Setting it to 3*k\n",
            "  init_size=init_size)\n"
          ],
          "name": "stderr"
        }
      ]
    },
    {
      "cell_type": "code",
      "metadata": {
        "id": "AXPMrCGwht64",
        "colab_type": "code",
        "outputId": "018cb545-52d4-4a4a-aea7-97fe946c3753",
        "colab": {
          "base_uri": "https://localhost:8080/",
          "height": 35
        }
      },
      "source": [
        "print(codebook.shape)"
      ],
      "execution_count": 0,
      "outputs": [
        {
          "output_type": "stream",
          "text": [
            "(200, 128)\n"
          ],
          "name": "stdout"
        }
      ]
    },
    {
      "cell_type": "code",
      "metadata": {
        "id": "PNLJkONEKv3r",
        "colab_type": "code",
        "outputId": "602e4ed5-cc6e-42d7-8dcd-6245860da47d",
        "colab": {
          "base_uri": "https://localhost:8080/",
          "height": 35
        }
      },
      "source": [
        "from scipy.cluster.vq import vq\n",
        "\n",
        "hist=[]\n",
        "\n",
        "for i in tqdm(range(len(train_des))):\n",
        "  data=train_des[i]\n",
        "  words, _=vq(data, codebook)\n",
        "  word_hist,_=np.histogram(words,bins=range(codebooksize+1))\n",
        "  \n",
        "  hist.append(word_hist)"
      ],
      "execution_count": 0,
      "outputs": [
        {
          "output_type": "stream",
          "text": [
            "100%|██████████| 3060/3060 [00:11<00:00, 263.81it/s]\n"
          ],
          "name": "stderr"
        }
      ]
    },
    {
      "cell_type": "code",
      "metadata": {
        "id": "4iY72N6CQvCn",
        "colab_type": "code",
        "colab": {}
      },
      "source": [
        "hist = np.asarray(hist)\n",
        "train_labels = np.asarray(train_labels)"
      ],
      "execution_count": 0,
      "outputs": []
    },
    {
      "cell_type": "code",
      "metadata": {
        "id": "NnDZIgpXjlT_",
        "colab_type": "code",
        "outputId": "80ed738c-a0ed-4dd4-a598-6db517f20537",
        "colab": {
          "base_uri": "https://localhost:8080/",
          "height": 181
        }
      },
      "source": [
        "print(hist)\n",
        "print(hist.shape)\n",
        "print(train_labels.shape)"
      ],
      "execution_count": 0,
      "outputs": [
        {
          "output_type": "stream",
          "text": [
            "[[ 0  1  3 ...  0  0  5]\n",
            " [ 0  0  0 ... 23  0  0]\n",
            " [ 0  0  0 ...  0  0  0]\n",
            " ...\n",
            " [ 0  2  0 ...  1  0  1]\n",
            " [ 0  0  0 ...  2  3  7]\n",
            " [ 0  0  2 ...  2  0  1]]\n",
            "(3060, 400)\n",
            "(3060,)\n"
          ],
          "name": "stdout"
        }
      ]
    },
    {
      "cell_type": "markdown",
      "metadata": {
        "id": "f4qSi3PS2l6l",
        "colab_type": "text"
      },
      "source": [
        "#test data\n",
        "\n"
      ]
    },
    {
      "cell_type": "code",
      "metadata": {
        "id": "HvFTUDpKZDel",
        "colab_type": "code",
        "outputId": "934e65a7-7ecc-4c0e-fa28-ea2d4f247396",
        "colab": {
          "base_uri": "https://localhost:8080/",
          "height": 35
        }
      },
      "source": [
        "DATA_ROOT_TEST=\"./testAll_v2\"\n",
        "#test_set=list()\n",
        "test_labels=list()\n",
        "test_des=list()\n",
        "\n",
        "\n",
        "img_list=os.listdir(DATA_ROOT_TEST)\n",
        "\n",
        "for img in tqdm(img_list):\n",
        "  image=cv2.imread(DATA_ROOT_TEST+'/'+img)\n",
        "  gray=cv2.cvtColor(image,cv2.COLOR_BGR2GRAY)\n",
        "\n",
        "  kp,des=dense_sitf_each(gray)\n",
        "  test_des.append(des)\n",
        "  \n",
        "  \n",
        "  \n",
        "  \n",
        "  \n",
        " \n",
        "  #image gray 활용을 어떻게 해야할지 생각 11/23-> 해결\n",
        "  #11/21 데이터 로드 및  train,test data split\n",
        "  #test set labeling 어떻게? ????? 11/23->  할  필요 없음 11/26\n",
        "\n",
        "\n",
        "\n"
      ],
      "execution_count": 0,
      "outputs": [
        {
          "output_type": "stream",
          "text": [
            "100%|██████████| 1692/1692 [01:22<00:00, 20.57it/s]\n"
          ],
          "name": "stderr"
        }
      ]
    },
    {
      "cell_type": "code",
      "metadata": {
        "id": "-ULaETr817ZJ",
        "colab_type": "code",
        "outputId": "b4b48f59-b6e4-4e0c-f819-a9ce02e89246",
        "colab": {
          "base_uri": "https://localhost:8080/",
          "height": 74
        }
      },
      "source": [
        "#stack all the descriptors vertically in a numpy array\n",
        "\n",
        "#descriptors_test = test_des[0]\n",
        "#for descriptor_test in tqdm(test_des[1:]):\n",
        "  #descriptors_test=np.vstack((descriptors_test,descriptor_test))\n",
        "descriptors_test = np.vstack(des for des in test_des)"
      ],
      "execution_count": 0,
      "outputs": [
        {
          "output_type": "stream",
          "text": [
            "/usr/local/lib/python3.6/dist-packages/ipykernel_launcher.py:1: FutureWarning: arrays to stack must be passed as a \"sequence\" type such as list or tuple. Support for non-sequence iterables such as generators is deprecated as of NumPy 1.16 and will raise an error in the future.\n",
            "  \"\"\"Entry point for launching an IPython kernel.\n"
          ],
          "name": "stderr"
        }
      ]
    },
    {
      "cell_type": "code",
      "metadata": {
        "id": "wtqMUATW3Ikw",
        "colab_type": "code",
        "outputId": "61c3a117-6e07-42aa-e3c8-1dca06884521",
        "colab": {
          "base_uri": "https://localhost:8080/",
          "height": 35
        }
      },
      "source": [
        "from scipy.cluster.vq import vq\n",
        "\n",
        "hist_test=[]\n",
        "for i in tqdm(range(len(test_des))):\n",
        "  data=test_des[i]\n",
        "  words,_=vq(data, codebook)\n",
        "  word_hist,_=np.histogram(words,bins=range(codebooksize+1))\n",
        "  hist_test.append(word_hist)\n",
        "\n",
        "hist_test=np.asarray(hist_test)"
      ],
      "execution_count": 0,
      "outputs": [
        {
          "output_type": "stream",
          "text": [
            "100%|██████████| 1692/1692 [00:06<00:00, 249.25it/s]\n"
          ],
          "name": "stderr"
        }
      ]
    },
    {
      "cell_type": "markdown",
      "metadata": {
        "id": "UqXj_lmj-yiZ",
        "colab_type": "text"
      },
      "source": [
        "#svm"
      ]
    },
    {
      "cell_type": "code",
      "metadata": {
        "id": "CpJkAU7Avzml",
        "colab_type": "code",
        "colab": {}
      },
      "source": [
        "from sklearn.model_selection import train_test_split\n",
        "import cupy as xp\n",
        "from sklearn.svm import SVC\n",
        "from sklearn.model_selection import GridSearchCV\n",
        "from sklearn.decomposition import PCA as RandomizedPCA\n",
        "\n",
        "from sklearn.pipeline import make_pipeline\n",
        "\n",
        "\n",
        "x_train, x_test, y_train, y_test = train_test_split(hist, train_labels)\n",
        "svm = SVC(kernel='rbf',C=50,gamma=1e-5 ,class_weight='balanced').fit(x_train,y_train)\n",
        "\n",
        "\n",
        "\n",
        "\n",
        "\n",
        "yfit = svm.predict(hist_test)\n"
      ],
      "execution_count": 0,
      "outputs": []
    },
    {
      "cell_type": "markdown",
      "metadata": {
        "id": "xg0PDnD68Daq",
        "colab_type": "text"
      },
      "source": [
        "#출력 및 제출"
      ]
    },
    {
      "cell_type": "code",
      "metadata": {
        "id": "Zj3jQsvhJWbL",
        "colab_type": "code",
        "colab": {}
      },
      "source": [
        "result=yfit"
      ],
      "execution_count": 0,
      "outputs": []
    },
    {
      "cell_type": "code",
      "metadata": {
        "id": "cKyUXCvs0sKM",
        "colab_type": "code",
        "colab": {}
      },
      "source": [
        "result=result.reshape(-1,1)\n",
        "result_img_list=np.array(img_list).reshape(-1,1)\n",
        "total_result=np.hstack([result_img_list,result])"
      ],
      "execution_count": 0,
      "outputs": []
    },
    {
      "cell_type": "code",
      "metadata": {
        "id": "o16xAZOYbK7v",
        "colab_type": "code",
        "outputId": "21a37f0f-26f8-488a-da55-f3bf9f69f987",
        "colab": {
          "base_uri": "https://localhost:8080/",
          "height": 145
        }
      },
      "source": [
        "print(total_result)"
      ],
      "execution_count": 0,
      "outputs": [
        {
          "output_type": "stream",
          "text": [
            "[['image_1389.jpg' '8']\n",
            " ['image_0810.jpg' '21']\n",
            " ['image_1265.jpg' '12']\n",
            " ...\n",
            " ['image_0532.jpg' '27']\n",
            " ['image_0288.jpg' '38']\n",
            " ['image_0906.jpg' '75']]\n"
          ],
          "name": "stdout"
        }
      ]
    },
    {
      "cell_type": "code",
      "metadata": {
        "id": "-freqboQ4srL",
        "colab_type": "code",
        "colab": {}
      },
      "source": [
        "df=pd.DataFrame(total_result,columns=['Id',\"Category\"])\n",
        "df.to_csv('results-sungbin-v3.csv',index=False,header=True)\n"
      ],
      "execution_count": 0,
      "outputs": []
    },
    {
      "cell_type": "code",
      "metadata": {
        "id": "SGfgILVO5Ogq",
        "colab_type": "code",
        "outputId": "700a8d9c-e543-4c64-e1df-8a6d30b2124e",
        "colab": {
          "base_uri": "https://localhost:8080/",
          "height": 54
        }
      },
      "source": [
        "! kaggle competitions submit -c 2019-ml-finalproject -f results-sungbin-v3.csv -m \"sung bin kim\""
      ],
      "execution_count": 0,
      "outputs": [
        {
          "output_type": "stream",
          "text": [
            "100% 29.6k/29.6k [00:06<00:00, 4.55kB/s]\n",
            "Successfully submitted to 2019.Fall.PatternRecognition "
          ],
          "name": "stdout"
        }
      ]
    }
  ]
}